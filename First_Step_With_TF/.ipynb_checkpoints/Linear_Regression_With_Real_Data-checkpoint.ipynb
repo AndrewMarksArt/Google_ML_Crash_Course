{
 "cells": [
  {
   "cell_type": "markdown",
   "metadata": {},
   "source": [
    "# Linear Regression with a Real Dataset\n",
    "\n",
    "### The Dataset\n",
    "the data for this exercise is based on the 1990 census data from California. Data is old but still provides a great opportunity to learn about ML programming.\n",
    "\n",
    "https://developers.google.com/machine-learning/crash-course/california-housing-data-description"
   ]
  },
  {
   "cell_type": "code",
   "execution_count": 2,
   "metadata": {},
   "outputs": [],
   "source": [
    "# Import relevant modules\n",
    "import pandas as pd\n",
    "import tensorflow as tf\n",
    "from matplotlib import pyplot as plt\n",
    "\n",
    "# The following lines adjusting formating. \n",
    "pd.options.display.max_rows = 10\n",
    "pd.options.display.float_format = \"{:.1f}\".format"
   ]
  },
  {
   "cell_type": "markdown",
   "metadata": {},
   "source": [
    "### Import Data, scale labels, and print the first few rows of the dataframe\n",
    "\n",
    "Scalling the median_house_valu puts the value of each house in units of thousands. Scaling will keep loss values and learning rates in a friendlier range.\n",
    "\n",
    "***Scaling a label is usually not essential BUT scaling features in a multi-feature model usually is essential***"
   ]
  },
  {
   "cell_type": "code",
   "execution_count": 3,
   "metadata": {},
   "outputs": [
    {
     "data": {
      "text/html": [
       "<div>\n",
       "<style scoped>\n",
       "    .dataframe tbody tr th:only-of-type {\n",
       "        vertical-align: middle;\n",
       "    }\n",
       "\n",
       "    .dataframe tbody tr th {\n",
       "        vertical-align: top;\n",
       "    }\n",
       "\n",
       "    .dataframe thead th {\n",
       "        text-align: right;\n",
       "    }\n",
       "</style>\n",
       "<table border=\"1\" class=\"dataframe\">\n",
       "  <thead>\n",
       "    <tr style=\"text-align: right;\">\n",
       "      <th></th>\n",
       "      <th>longitude</th>\n",
       "      <th>latitude</th>\n",
       "      <th>housing_median_age</th>\n",
       "      <th>total_rooms</th>\n",
       "      <th>total_bedrooms</th>\n",
       "      <th>population</th>\n",
       "      <th>households</th>\n",
       "      <th>median_income</th>\n",
       "      <th>median_house_value</th>\n",
       "    </tr>\n",
       "  </thead>\n",
       "  <tbody>\n",
       "    <tr>\n",
       "      <th>0</th>\n",
       "      <td>-114.3</td>\n",
       "      <td>34.2</td>\n",
       "      <td>15.0</td>\n",
       "      <td>5612.0</td>\n",
       "      <td>1283.0</td>\n",
       "      <td>1015.0</td>\n",
       "      <td>472.0</td>\n",
       "      <td>1.5</td>\n",
       "      <td>66.9</td>\n",
       "    </tr>\n",
       "    <tr>\n",
       "      <th>1</th>\n",
       "      <td>-114.5</td>\n",
       "      <td>34.4</td>\n",
       "      <td>19.0</td>\n",
       "      <td>7650.0</td>\n",
       "      <td>1901.0</td>\n",
       "      <td>1129.0</td>\n",
       "      <td>463.0</td>\n",
       "      <td>1.8</td>\n",
       "      <td>80.1</td>\n",
       "    </tr>\n",
       "    <tr>\n",
       "      <th>2</th>\n",
       "      <td>-114.6</td>\n",
       "      <td>33.7</td>\n",
       "      <td>17.0</td>\n",
       "      <td>720.0</td>\n",
       "      <td>174.0</td>\n",
       "      <td>333.0</td>\n",
       "      <td>117.0</td>\n",
       "      <td>1.7</td>\n",
       "      <td>85.7</td>\n",
       "    </tr>\n",
       "    <tr>\n",
       "      <th>3</th>\n",
       "      <td>-114.6</td>\n",
       "      <td>33.6</td>\n",
       "      <td>14.0</td>\n",
       "      <td>1501.0</td>\n",
       "      <td>337.0</td>\n",
       "      <td>515.0</td>\n",
       "      <td>226.0</td>\n",
       "      <td>3.2</td>\n",
       "      <td>73.4</td>\n",
       "    </tr>\n",
       "    <tr>\n",
       "      <th>4</th>\n",
       "      <td>-114.6</td>\n",
       "      <td>33.6</td>\n",
       "      <td>20.0</td>\n",
       "      <td>1454.0</td>\n",
       "      <td>326.0</td>\n",
       "      <td>624.0</td>\n",
       "      <td>262.0</td>\n",
       "      <td>1.9</td>\n",
       "      <td>65.5</td>\n",
       "    </tr>\n",
       "  </tbody>\n",
       "</table>\n",
       "</div>"
      ],
      "text/plain": [
       "   longitude  latitude  housing_median_age  total_rooms  total_bedrooms  \\\n",
       "0     -114.3      34.2                15.0       5612.0          1283.0   \n",
       "1     -114.5      34.4                19.0       7650.0          1901.0   \n",
       "2     -114.6      33.7                17.0        720.0           174.0   \n",
       "3     -114.6      33.6                14.0       1501.0           337.0   \n",
       "4     -114.6      33.6                20.0       1454.0           326.0   \n",
       "\n",
       "   population  households  median_income  median_house_value  \n",
       "0      1015.0       472.0            1.5                66.9  \n",
       "1      1129.0       463.0            1.8                80.1  \n",
       "2       333.0       117.0            1.7                85.7  \n",
       "3       515.0       226.0            3.2                73.4  \n",
       "4       624.0       262.0            1.9                65.5  "
      ]
     },
     "execution_count": 3,
     "metadata": {},
     "output_type": "execute_result"
    }
   ],
   "source": [
    "# Import the dataset.\n",
    "training_df = pd.read_csv(filepath_or_buffer=\"https://download.mlcc.google.com/mledu-datasets/california_housing_train.csv\")\n",
    "\n",
    "# Scale the label.\n",
    "training_df[\"median_house_value\"] /= 1000.0\n",
    "\n",
    "# Print the first rows of the pandas DataFrame.\n",
    "training_df.head()"
   ]
  },
  {
   "cell_type": "markdown",
   "metadata": {},
   "source": [
    "### Examine the dataset\n",
    "\n",
    "A large part of most ML projects is getting to know the data. Pandas describe function is useful for getting descriptive stats such as count, mean, std, min/max, and quantiles"
   ]
  },
  {
   "cell_type": "code",
   "execution_count": 4,
   "metadata": {},
   "outputs": [
    {
     "data": {
      "text/html": [
       "<div>\n",
       "<style scoped>\n",
       "    .dataframe tbody tr th:only-of-type {\n",
       "        vertical-align: middle;\n",
       "    }\n",
       "\n",
       "    .dataframe tbody tr th {\n",
       "        vertical-align: top;\n",
       "    }\n",
       "\n",
       "    .dataframe thead th {\n",
       "        text-align: right;\n",
       "    }\n",
       "</style>\n",
       "<table border=\"1\" class=\"dataframe\">\n",
       "  <thead>\n",
       "    <tr style=\"text-align: right;\">\n",
       "      <th></th>\n",
       "      <th>longitude</th>\n",
       "      <th>latitude</th>\n",
       "      <th>housing_median_age</th>\n",
       "      <th>total_rooms</th>\n",
       "      <th>total_bedrooms</th>\n",
       "      <th>population</th>\n",
       "      <th>households</th>\n",
       "      <th>median_income</th>\n",
       "      <th>median_house_value</th>\n",
       "    </tr>\n",
       "  </thead>\n",
       "  <tbody>\n",
       "    <tr>\n",
       "      <th>count</th>\n",
       "      <td>17000.0</td>\n",
       "      <td>17000.0</td>\n",
       "      <td>17000.0</td>\n",
       "      <td>17000.0</td>\n",
       "      <td>17000.0</td>\n",
       "      <td>17000.0</td>\n",
       "      <td>17000.0</td>\n",
       "      <td>17000.0</td>\n",
       "      <td>17000.0</td>\n",
       "    </tr>\n",
       "    <tr>\n",
       "      <th>mean</th>\n",
       "      <td>-119.6</td>\n",
       "      <td>35.6</td>\n",
       "      <td>28.6</td>\n",
       "      <td>2643.7</td>\n",
       "      <td>539.4</td>\n",
       "      <td>1429.6</td>\n",
       "      <td>501.2</td>\n",
       "      <td>3.9</td>\n",
       "      <td>207.3</td>\n",
       "    </tr>\n",
       "    <tr>\n",
       "      <th>std</th>\n",
       "      <td>2.0</td>\n",
       "      <td>2.1</td>\n",
       "      <td>12.6</td>\n",
       "      <td>2179.9</td>\n",
       "      <td>421.5</td>\n",
       "      <td>1147.9</td>\n",
       "      <td>384.5</td>\n",
       "      <td>1.9</td>\n",
       "      <td>116.0</td>\n",
       "    </tr>\n",
       "    <tr>\n",
       "      <th>min</th>\n",
       "      <td>-124.3</td>\n",
       "      <td>32.5</td>\n",
       "      <td>1.0</td>\n",
       "      <td>2.0</td>\n",
       "      <td>1.0</td>\n",
       "      <td>3.0</td>\n",
       "      <td>1.0</td>\n",
       "      <td>0.5</td>\n",
       "      <td>15.0</td>\n",
       "    </tr>\n",
       "    <tr>\n",
       "      <th>25%</th>\n",
       "      <td>-121.8</td>\n",
       "      <td>33.9</td>\n",
       "      <td>18.0</td>\n",
       "      <td>1462.0</td>\n",
       "      <td>297.0</td>\n",
       "      <td>790.0</td>\n",
       "      <td>282.0</td>\n",
       "      <td>2.6</td>\n",
       "      <td>119.4</td>\n",
       "    </tr>\n",
       "    <tr>\n",
       "      <th>50%</th>\n",
       "      <td>-118.5</td>\n",
       "      <td>34.2</td>\n",
       "      <td>29.0</td>\n",
       "      <td>2127.0</td>\n",
       "      <td>434.0</td>\n",
       "      <td>1167.0</td>\n",
       "      <td>409.0</td>\n",
       "      <td>3.5</td>\n",
       "      <td>180.4</td>\n",
       "    </tr>\n",
       "    <tr>\n",
       "      <th>75%</th>\n",
       "      <td>-118.0</td>\n",
       "      <td>37.7</td>\n",
       "      <td>37.0</td>\n",
       "      <td>3151.2</td>\n",
       "      <td>648.2</td>\n",
       "      <td>1721.0</td>\n",
       "      <td>605.2</td>\n",
       "      <td>4.8</td>\n",
       "      <td>265.0</td>\n",
       "    </tr>\n",
       "    <tr>\n",
       "      <th>max</th>\n",
       "      <td>-114.3</td>\n",
       "      <td>42.0</td>\n",
       "      <td>52.0</td>\n",
       "      <td>37937.0</td>\n",
       "      <td>6445.0</td>\n",
       "      <td>35682.0</td>\n",
       "      <td>6082.0</td>\n",
       "      <td>15.0</td>\n",
       "      <td>500.0</td>\n",
       "    </tr>\n",
       "  </tbody>\n",
       "</table>\n",
       "</div>"
      ],
      "text/plain": [
       "       longitude  latitude  housing_median_age  total_rooms  total_bedrooms  \\\n",
       "count    17000.0   17000.0             17000.0      17000.0         17000.0   \n",
       "mean      -119.6      35.6                28.6       2643.7           539.4   \n",
       "std          2.0       2.1                12.6       2179.9           421.5   \n",
       "min       -124.3      32.5                 1.0          2.0             1.0   \n",
       "25%       -121.8      33.9                18.0       1462.0           297.0   \n",
       "50%       -118.5      34.2                29.0       2127.0           434.0   \n",
       "75%       -118.0      37.7                37.0       3151.2           648.2   \n",
       "max       -114.3      42.0                52.0      37937.0          6445.0   \n",
       "\n",
       "       population  households  median_income  median_house_value  \n",
       "count     17000.0     17000.0        17000.0             17000.0  \n",
       "mean       1429.6       501.2            3.9               207.3  \n",
       "std        1147.9       384.5            1.9               116.0  \n",
       "min           3.0         1.0            0.5                15.0  \n",
       "25%         790.0       282.0            2.6               119.4  \n",
       "50%        1167.0       409.0            3.5               180.4  \n",
       "75%        1721.0       605.2            4.8               265.0  \n",
       "max       35682.0      6082.0           15.0               500.0  "
      ]
     },
     "execution_count": 4,
     "metadata": {},
     "output_type": "execute_result"
    }
   ],
   "source": [
    "# get statistics on the dataset\n",
    "training_df.describe()"
   ]
  },
  {
   "cell_type": "markdown",
   "metadata": {},
   "source": [
    "### Do you see any anomalies in the dataset?\n",
    "\n",
    "The max values in some several columns seem to be very high in relation to the other quantiles. For example, look at the total_rooms column, based on the quantile values (25%, 50%, and 75%) we might expect to see a max around 5,000 or even 10,000 but we see almost 38,000.\n",
    "\n",
    "When you see anomalies, be careful about using that column as a feature, however anomalies in potential features sometimes mirror anomalies in the label whcich could make the column a powerful feature."
   ]
  },
  {
   "cell_type": "markdown",
   "metadata": {},
   "source": [
    "### Define functions that build and train a model\n",
    "\n",
    "* Write a function \"build_model(my_learning_rate)\" which will build an empty model\n",
    "* Write a function \"train_model(model, features, label, epochs)\" which will train the model from the examples (features and labels)"
   ]
  },
  {
   "cell_type": "code",
   "execution_count": 7,
   "metadata": {},
   "outputs": [],
   "source": [
    "def build_model(my_learning_rate):\n",
    "    \"\"\"Create and compile a simple linear regression model\"\"\"\n",
    "    # most simple tf.keras models are sequential and contain one or more layers\n",
    "    model = tf.keras.models.Sequential()\n",
    "    \n",
    "    # Describe the topography of the model\n",
    "    # For a simple linear Regression model its a single node in a single layer\n",
    "    model.add(tf.keras.layers.Dense(units = 1, input_shape=(1,)))\n",
    "    \n",
    "    # Configure training to minimize the models mean squared error\n",
    "    model.compile(optimizer = tf.keras.optimizers.RMSprop(lr = my_learning_rate),\n",
    "                 loss = \"mean_squared_error\",\n",
    "                 metrics = [tf.keras.metrics.RootMeanSquaredError()])\n",
    "    \n",
    "    return model\n",
    "\n",
    "\n",
    "def train_model(model, df, feature, label, epochs, batch_size):\n",
    "    \"\"\"Train the model by passing it labeled examples\"\"\"\n",
    "    # Give the model features and labels\n",
    "    # The model will train for the specified epochs, \n",
    "    # learning how features are related to labels\n",
    "    history = model.fit(x= df[feature],\n",
    "                        y= df[label],\n",
    "                        batch_size= batch_size,\n",
    "                        epochs= epochs)\n",
    "    \n",
    "    # Gather the trained model's weight and bias\n",
    "    trained_weight = model.get_weights()[0]\n",
    "    trained_bias = model.get_weights()[1]\n",
    "    \n",
    "    # The list of epochs is stored seperately\n",
    "    epochs = history.epoch\n",
    "    \n",
    "    # Gather the history of each epoch\n",
    "    hist = pd.DataFrame(history.history)\n",
    "    \n",
    "    # Gather the rmse for at each epoch\n",
    "    rmse = hist[\"root_mean_squared_error\"]\n",
    "    \n",
    "    return trained_weight, trained_bias, epochs, rmse\n",
    "\n"
   ]
  },
  {
   "cell_type": "markdown",
   "metadata": {},
   "source": [
    "### Define plotting functions using Matplotlib\n",
    "\n",
    "* plot of the feature values vs the label values, and a line showing the output of the trained model\n",
    "* plot a loss curve"
   ]
  },
  {
   "cell_type": "code",
   "execution_count": 11,
   "metadata": {},
   "outputs": [],
   "source": [
    "def plot_the_model(trained_weight, trained_bias, feature, label):\n",
    "    \"\"\"Plot the trained model against the training feature and label\"\"\"\n",
    "    \n",
    "    # Label the axes\n",
    "    plt.xlabel(\"feature\")\n",
    "    plt.ylabel(\"label\")\n",
    "    \n",
    "    # Create a scatter plot from 200 random points of the dataset.\n",
    "    random_examples = training_df.sample(n=200)\n",
    "    plt.scatter(random_examples[feature], random_examples[label])\n",
    "    \n",
    "    # Create a red line representing the model\n",
    "    # Starts at (x0, y0) and ends at (x1, y1)\n",
    "    x0 = 0\n",
    "    y0 = trained_bias\n",
    "    x1 = 10000\n",
    "    y1 = trained_bias + (trained_weight * x1)\n",
    "    plt.plot([x0, x1], [y0, y1], c='r')\n",
    "    \n",
    "    # Render the scatter plot and model line\n",
    "    plt.show()\n",
    "    \n",
    "    \n",
    "def plot_the_loss_curve(epochs, rmse):\n",
    "    \"\"\"Plot the loss curve showing loss vs epoch\"\"\"\n",
    "    \n",
    "    # Define the figure and label axes\n",
    "    plt.figure()\n",
    "    plt.xlabel(\"Epoch\")\n",
    "    plt.ylabel(\"Root Mean Squared Error\")\n",
    "    \n",
    "    # Plot epochs vs rmse, legend, and set y axes \n",
    "    plt.plot(epochs, rmse, label=\"loss\")\n",
    "    plt.legend()\n",
    "    plt.ylim([rmse.min()*0.97, rmse.max()])\n",
    "    \n",
    "    # render plot\n",
    "    plt.show()\n",
    "    "
   ]
  },
  {
   "cell_type": "markdown",
   "metadata": {},
   "source": [
    "### Call the model functions\n",
    "\n",
    "An important part of ML is determining which features correlate with the label. For example, real-life home-value prediction models typically rely on hundreds of features and synthetic features.\n",
    "\n",
    "For this modelwe will use just one feature, 'total_rooms'"
   ]
  },
  {
   "cell_type": "code",
   "execution_count": 12,
   "metadata": {},
   "outputs": [
    {
     "name": "stdout",
     "output_type": "stream",
     "text": [
      "Epoch 1/10\n",
      "567/567 [==============================] - 0s 853us/step - loss: 255263.9844 - root_mean_squared_error: 505.2366\n",
      "Epoch 2/10\n",
      "567/567 [==============================] - 1s 1ms/step - loss: 27813.0996 - root_mean_squared_error: 166.7726\n",
      "Epoch 3/10\n",
      "567/567 [==============================] - 1s 1ms/step - loss: 27056.7773 - root_mean_squared_error: 164.4894\n",
      "Epoch 4/10\n",
      "567/567 [==============================] - 1s 1ms/step - loss: 26525.9512 - root_mean_squared_error: 162.8679\n",
      "Epoch 5/10\n",
      "567/567 [==============================] - 1s 920us/step - loss: 25661.2891 - root_mean_squared_error: 160.1914\n",
      "Epoch 6/10\n",
      "567/567 [==============================] - 1s 2ms/step - loss: 25103.9316 - root_mean_squared_error: 158.4422\n",
      "Epoch 7/10\n",
      "567/567 [==============================] - 0s 858us/step - loss: 24471.6406 - root_mean_squared_error: 156.4341\n",
      "Epoch 8/10\n",
      "567/567 [==============================] - 1s 904us/step - loss: 23894.0449 - root_mean_squared_error: 154.5770\n",
      "Epoch 9/10\n",
      "567/567 [==============================] - 1s 932us/step - loss: 23236.5586 - root_mean_squared_error: 152.4354\n",
      "Epoch 10/10\n",
      "567/567 [==============================] - 0s 783us/step - loss: 22611.3398 - root_mean_squared_error: 150.3707\n",
      "\n",
      "The learned weight for your model is 0.0323\n",
      "The learned bias for your model is 47.3860\n",
      "\n"
     ]
    },
    {
     "data": {
      "image/png": "[encoded data removed]",
      "text/plain": [
       "<Figure size 432x288 with 1 Axes>"
      ]
     },
     "metadata": {
      "needs_background": "light"
     },
     "output_type": "display_data"
    },
    {
     "data": {
      "image/png": "[encoded data removed]",
      "text/plain": [
       "<Figure size 432x288 with 1 Axes>"
      ]
     },
     "metadata": {
      "needs_background": "light"
     },
     "output_type": "display_data"
    }
   ],
   "source": [
    "# Initialize hyperparametes\n",
    "learning_rate = 0.01\n",
    "epochs = 10\n",
    "my_batch_size = 30\n",
    "\n",
    "# Specify the feature and the label\n",
    "my_feature = \"total_rooms\" # the total number of rooms on a specific city block\n",
    "my_label = \"median_house_value\" # the median value of a house on a specific city block\n",
    "\n",
    "# Discard any pre-existing version of the model\n",
    "my_model = None\n",
    "\n",
    "# Use learning rate to build the model\n",
    "my_model = build_model(learning_rate)\n",
    "\n",
    "# Train model with my_model, my_feature, my_label, and remaining hyperparameters\n",
    "weight, bias, epochs, rmse = train_model(my_model, training_df,\n",
    "                                         my_feature, my_label, \n",
    "                                         epochs, my_batch_size)\n",
    "\n",
    "print(\"\\nThe learned weight for your model is %.4f\" % weight)\n",
    "print(\"The learned bias for your model is %.4f\\n\" % bias )\n",
    "\n",
    "# Plot the model and loss curve\n",
    "plot_the_model(weight, bias, my_feature, my_label)\n",
    "plot_the_loss_curve(epochs, rmse)"
   ]
  },
  {
   "cell_type": "markdown",
   "metadata": {},
   "source": [
    "There is a certain amount of randomness that plans into training a model. Consequently you'll get different results each time you train the model. That said, given the dataset and the hyperparameters, the trained model will generally do a poor job describing the freature's relation to the label."
   ]
  },
  {
   "cell_type": "markdown",
   "metadata": {},
   "source": [
    "### Use the model to make predictions\n",
    "\n",
    "We can use the trained model to make predictions. In practice, you should make predictions on examples that are not used in training.\n",
    "\n",
    "For this exercise we'll just work with a subset of the same training dataset."
   ]
  },
  {
   "cell_type": "code",
   "execution_count": 13,
   "metadata": {},
   "outputs": [],
   "source": [
    "def predict_house_values(n, feature, label):\n",
    "    \"\"\"Predict house values based on a feature\"\"\"\n",
    "    \n",
    "    batch = training_df[feature][10000:10000 + n]\n",
    "    predicted_values = my_model.predict_on_batch(x=batch)\n",
    "    \n",
    "    print(\"feature   label          predicted\")\n",
    "    print(\"  value   value          value\")\n",
    "    print(\"          in thousand$   in thousand$\")\n",
    "    print(\"--------------------------------------\")\n",
    "    for i in range(n):\n",
    "        print(\"%5.0f %6.0f %15.0f\" % (training_df[feature][10000 + i],\n",
    "                                      training_df[label][10000 + i],\n",
    "                                      predicted_values[i][0] ))"
   ]
  },
  {
   "cell_type": "code",
   "execution_count": 14,
   "metadata": {},
   "outputs": [
    {
     "name": "stdout",
     "output_type": "stream",
     "text": [
      "feature   label          predicted\n",
      "  value   value          value\n",
      "          in thousand$   in thousand$\n",
      "--------------------------------------\n",
      " 1960     53             111\n",
      " 3400     92             157\n",
      " 3677     69             166\n",
      " 2202     62             119\n",
      " 2403     80             125\n",
      " 5652    295             230\n",
      " 3318    500             155\n",
      " 2552    342             130\n",
      " 1364    118              91\n",
      " 3468    128             159\n"
     ]
    }
   ],
   "source": [
    "# invoke house prediction on 10 examples\n",
    "predict_house_values(10, my_feature, my_label)"
   ]
  },
  {
   "cell_type": "markdown",
   "metadata": {},
   "source": [
    "### Judge the predictive power of the model\n",
    "\n",
    "Look at the table above. How close is the prediction? How acurate is it?\n",
    "\n",
    "Most predicted values differ significantly so the trained model propably doesn't have much predictive power. However, we say probably because the first 10 examples might not be representative of the rest of the examples."
   ]
  },
  {
   "cell_type": "markdown",
   "metadata": {},
   "source": [
    "### Lets try a different feature\n",
    "\n",
    "\"total_rooms\" only had a little predictive power. Would a different feature be better?\n",
    "\n",
    "Lets try \"population\" instead"
   ]
  },
  {
   "cell_type": "code",
   "execution_count": 23,
   "metadata": {},
   "outputs": [
    {
     "name": "stdout",
     "output_type": "stream",
     "text": [
      "Epoch 1/3\n",
      "  1/142 [..............................] - ETA: 0s - loss: 1639645.1250 - root_mean_squared_error: 1280.4863WARNING:tensorflow:Callbacks method `on_train_batch_begin` is slow compared to the batch time (batch time: 0.0000s vs `on_train_batch_begin` time: 0.0010s). Check your callbacks.\n",
      "142/142 [==============================] - 0s 745us/step - loss: 3617942.5000 - root_mean_squared_error: 1902.0891\n",
      "Epoch 2/3\n",
      "142/142 [==============================] - 0s 772us/step - loss: 3170242.2500 - root_mean_squared_error: 1780.5175\n",
      "Epoch 3/3\n",
      "142/142 [==============================] - 0s 934us/step - loss: 3202760.0000 - root_mean_squared_error: 1789.6256\n"
     ]
    },
    {
     "data": {
      "image/png": "[encoded data removed]",
      "text/plain": [
       "<Figure size 432x288 with 1 Axes>"
      ]
     },
     "metadata": {
      "needs_background": "light"
     },
     "output_type": "display_data"
    },
    {
     "data": {
      "image/png": "[encoded data removed]",
      "text/plain": [
       "<Figure size 432x288 with 1 Axes>"
      ]
     },
     "metadata": {
      "needs_background": "light"
     },
     "output_type": "display_data"
    },
    {
     "name": "stdout",
     "output_type": "stream",
     "text": [
      "WARNING:tensorflow:10 out of the last 10 calls to <function Model.make_predict_function.<locals>.predict_function at 0x00000150CE3E9168> triggered tf.function retracing. Tracing is expensive and the excessive number of tracings could be due to (1) creating @tf.function repeatedly in a loop, (2) passing tensors with different shapes, (3) passing Python objects instead of tensors. For (1), please define your @tf.function outside of the loop. For (2), @tf.function has experimental_relax_shapes=True option that relaxes argument shapes that can avoid unnecessary retracing. For (3), please refer to https://www.tensorflow.org/tutorials/customization/performance#python_or_tensor_args and https://www.tensorflow.org/api_docs/python/tf/function for  more details.\n",
      "feature   label          predicted\n",
      "  value   value          value\n",
      "          in thousand$   in thousand$\n",
      "--------------------------------------\n",
      " 1286     53            1996\n",
      " 1867     92            2880\n",
      " 2191     69            3373\n",
      " 1052     62            1640\n",
      " 1647     80            2546\n",
      " 2312    295            3557\n",
      " 1604    500            2480\n",
      " 1066    342            1662\n",
      "  338    118             554\n",
      " 1604    128            2480\n",
      " 1200    187            1866\n",
      "  292     80             484\n",
      " 2014    112            3104\n",
      " 1817     95            2804\n",
      " 1328     69            2060\n"
     ]
    }
   ],
   "source": [
    "my_feature = \"population\"   # Replace the ? with population or possibly\n",
    "                   # a different column name.\n",
    "\n",
    "# Experiment with the hyperparameters.\n",
    "learning_rate = 2\n",
    "epochs = 3\n",
    "batch_size = 120\n",
    "\n",
    "# Don't change anything below this line.\n",
    "my_model = build_model(learning_rate)\n",
    "weight, bias, epochs, rmse = train_model(my_model, training_df, \n",
    "                                         my_feature, my_label,\n",
    "                                         epochs, batch_size)\n",
    "plot_the_model(weight, bias, my_feature, my_label)\n",
    "plot_the_loss_curve(epochs, rmse)\n",
    "\n",
    "predict_house_values(15, my_feature, my_label)"
   ]
  },
  {
   "cell_type": "code",
   "execution_count": 24,
   "metadata": {},
   "outputs": [
    {
     "name": "stdout",
     "output_type": "stream",
     "text": [
      "Epoch 1/18\n",
      "5667/5667 [==============================] - 4s 793us/step - loss: 38764.7891 - root_mean_squared_error: 196.8878\n",
      "Epoch 2/18\n",
      "5667/5667 [==============================] - 4s 793us/step - loss: 20120.4277 - root_mean_squared_error: 141.8465\n",
      "Epoch 3/18\n",
      "5667/5667 [==============================] - 6s 1ms/step - loss: 18414.2207 - root_mean_squared_error: 135.6990\n",
      "Epoch 4/18\n",
      "5667/5667 [==============================] - 6s 1ms/step - loss: 18070.3164 - root_mean_squared_error: 134.4259\n",
      "Epoch 5/18\n",
      "5667/5667 [==============================] - 6s 980us/step - loss: 18186.3477 - root_mean_squared_error: 134.8568\n",
      "Epoch 6/18\n",
      "5667/5667 [==============================] - 6s 1ms/step - loss: 18222.4961 - root_mean_squared_error: 134.9907\n",
      "Epoch 7/18\n",
      "5667/5667 [==============================] - 5s 970us/step - loss: 18171.4727 - root_mean_squared_error: 134.8016\n",
      "Epoch 8/18\n",
      "5667/5667 [==============================] - 6s 1ms/step - loss: 17871.0996 - root_mean_squared_error: 133.6828\n",
      "Epoch 9/18\n",
      "5667/5667 [==============================] - 6s 1ms/step - loss: 17965.0527 - root_mean_squared_error: 134.0338\n",
      "Epoch 10/18\n",
      "5667/5667 [==============================] - 5s 908us/step - loss: 17988.0020 - root_mean_squared_error: 134.1194\n",
      "Epoch 11/18\n",
      "5667/5667 [==============================] - 5s 956us/step - loss: 18092.2910 - root_mean_squared_error: 134.5076\n",
      "Epoch 12/18\n",
      "5667/5667 [==============================] - 5s 957us/step - loss: 17744.5625 - root_mean_squared_error: 133.2087\n",
      "Epoch 13/18\n",
      "5667/5667 [==============================] - 5s 895us/step - loss: 18528.3164 - root_mean_squared_error: 136.1188\n",
      "Epoch 14/18\n",
      "5667/5667 [==============================] - 4s 734us/step - loss: 18133.2891 - root_mean_squared_error: 134.6599\n",
      "Epoch 15/18\n",
      "5667/5667 [==============================] - 4s 772us/step - loss: 18038.8320 - root_mean_squared_error: 134.3087\n",
      "Epoch 16/18\n",
      "5667/5667 [==============================] - 4s 690us/step - loss: 17813.9082 - root_mean_squared_error: 133.4688\n",
      "Epoch 17/18\n",
      "5667/5667 [==============================] - 4s 653us/step - loss: 18301.9238 - root_mean_squared_error: 135.2846\n",
      "Epoch 18/18\n",
      "5667/5667 [==============================] - 4s 670us/step - loss: 18219.1992 - root_mean_squared_error: 134.9785\n"
     ]
    },
    {
     "data": {
      "image/png": "[encoded data removed]",
      "text/plain": [
       "<Figure size 432x288 with 1 Axes>"
      ]
     },
     "metadata": {
      "needs_background": "light"
     },
     "output_type": "display_data"
    },
    {
     "data": {
      "image/png": "[encoded data removed]",
      "text/plain": [
       "<Figure size 432x288 with 1 Axes>"
      ]
     },
     "metadata": {
      "needs_background": "light"
     },
     "output_type": "display_data"
    },
    {
     "name": "stdout",
     "output_type": "stream",
     "text": [
      "WARNING:tensorflow:11 out of the last 11 calls to <function Model.make_predict_function.<locals>.predict_function at 0x00000150CCBF0E58> triggered tf.function retracing. Tracing is expensive and the excessive number of tracings could be due to (1) creating @tf.function repeatedly in a loop, (2) passing tensors with different shapes, (3) passing Python objects instead of tensors. For (1), please define your @tf.function outside of the loop. For (2), @tf.function has experimental_relax_shapes=True option that relaxes argument shapes that can avoid unnecessary retracing. For (3), please refer to https://www.tensorflow.org/tutorials/customization/performance#python_or_tensor_args and https://www.tensorflow.org/api_docs/python/tf/function for  more details.\n",
      "feature   label          predicted\n",
      "  value   value          value\n",
      "          in thousand$   in thousand$\n",
      "--------------------------------------\n",
      " 1286     53             248\n",
      " 1867     92             266\n",
      " 2191     69             277\n",
      " 1052     62             241\n",
      " 1647     80             260\n",
      " 2312    295             280\n",
      " 1604    500             258\n",
      " 1066    342             242\n",
      "  338    118             219\n",
      " 1604    128             258\n"
     ]
    }
   ],
   "source": [
    "my_feature = \"population\" # Pick a feature other than \"total_rooms\"\n",
    "\n",
    "# Possibly, experiment with the hyperparameters.\n",
    "learning_rate = 0.05\n",
    "epochs = 18\n",
    "batch_size = 3\n",
    "\n",
    "# Don't change anything below.\n",
    "my_model = build_model(learning_rate)\n",
    "weight, bias, epochs, rmse = train_model(my_model, training_df, \n",
    "                                         my_feature, my_label,\n",
    "                                         epochs, batch_size)\n",
    "\n",
    "plot_the_model(weight, bias, my_feature, my_label)\n",
    "plot_the_loss_curve(epochs, rmse)\n",
    "\n",
    "predict_house_values(10, my_feature, my_label)"
   ]
  },
  {
   "cell_type": "markdown",
   "metadata": {},
   "source": [
    "### Did population produce better results?\n",
    "\n",
    "No, population looks like it converges at a higher RMSE than total_rooms and the predictions seem to be worse. Looks like it is the same or slightly worse at making predictions than total_rooms"
   ]
  },
  {
   "cell_type": "markdown",
   "metadata": {},
   "source": [
    "### Define a synthetic feature (feature engineering)\n",
    "\n",
    "So we know total_rooms and population weren't useful but perhaps the ratio of total_rooms to population might have some predictive power. More formally maybe block density relates to median house value.\n",
    "\n",
    "To explore this hypothesis we need to do the following:\n",
    "1. Create a new feature that is the ratio of total_rooms to population\n",
    "2. Tune the three hyperparameters\n",
    "3. Determine whether the new feature produces a lower loss value than the other features"
   ]
  },
  {
   "cell_type": "code",
   "execution_count": 29,
   "metadata": {},
   "outputs": [
    {
     "name": "stdout",
     "output_type": "stream",
     "text": [
      "Epoch 1/25\n",
      "340/340 [==============================] - 0s 645us/step - loss: 45922.1289 - root_mean_squared_error: 214.2945\n",
      "Epoch 2/25\n",
      "340/340 [==============================] - 0s 1ms/step - loss: 30529.2090 - root_mean_squared_error: 174.7261\n",
      "Epoch 3/25\n",
      "340/340 [==============================] - 0s 1ms/step - loss: 21134.3125 - root_mean_squared_error: 145.3764\n",
      "Epoch 4/25\n",
      "340/340 [==============================] - 0s 795us/step - loss: 16584.4844 - root_mean_squared_error: 128.7808\n",
      "Epoch 5/25\n",
      "340/340 [==============================] - 0s 1ms/step - loss: 15219.6650 - root_mean_squared_error: 123.3680\n",
      "Epoch 6/25\n",
      "340/340 [==============================] - 0s 892us/step - loss: 14821.5820 - root_mean_squared_error: 121.7439\n",
      "Epoch 7/25\n",
      "340/340 [==============================] - 0s 801us/step - loss: 14757.8643 - root_mean_squared_error: 121.4819\n",
      "Epoch 8/25\n",
      "340/340 [==============================] - 0s 777us/step - loss: 14605.7529 - root_mean_squared_error: 120.8543\n",
      "Epoch 9/25\n",
      "340/340 [==============================] - 0s 777us/step - loss: 14496.2324 - root_mean_squared_error: 120.4003\n",
      "Epoch 10/25\n",
      "340/340 [==============================] - 0s 1ms/step - loss: 14332.2725 - root_mean_squared_error: 119.7175\n",
      "Epoch 11/25\n",
      "340/340 [==============================] - 0s 862us/step - loss: 14232.6191 - root_mean_squared_error: 119.3005\n",
      "Epoch 12/25\n",
      "340/340 [==============================] - 0s 786us/step - loss: 14080.5166 - root_mean_squared_error: 118.6614\n",
      "Epoch 13/25\n",
      "340/340 [==============================] - 0s 727us/step - loss: 14002.2998 - root_mean_squared_error: 118.3313\n",
      "Epoch 14/25\n",
      "340/340 [==============================] - 1s 2ms/step - loss: 13916.0449 - root_mean_squared_error: 117.9663\n",
      "Epoch 15/25\n",
      "340/340 [==============================] - 0s 1ms/step - loss: 13837.9609 - root_mean_squared_error: 117.6349\n",
      "Epoch 16/25\n",
      "340/340 [==============================] - 0s 883us/step - loss: 13752.9521 - root_mean_squared_error: 117.2730\n",
      "Epoch 17/25\n",
      "340/340 [==============================] - 0s 1ms/step - loss: 13676.8887 - root_mean_squared_error: 116.9482\n",
      "Epoch 18/25\n",
      "340/340 [==============================] - 1s 1ms/step - loss: 13663.9492 - root_mean_squared_error: 116.8929\n",
      "Epoch 19/25\n",
      "340/340 [==============================] - 0s 965us/step - loss: 13610.4189 - root_mean_squared_error: 116.6637\n",
      "Epoch 20/25\n",
      "340/340 [==============================] - 0s 983us/step - loss: 13590.3037 - root_mean_squared_error: 116.5775\n",
      "Epoch 21/25\n",
      "340/340 [==============================] - 0s 777us/step - loss: 13540.4492 - root_mean_squared_error: 116.3634\n",
      "Epoch 22/25\n",
      "340/340 [==============================] - 0s 909us/step - loss: 13480.7012 - root_mean_squared_error: 116.1064\n",
      "Epoch 23/25\n",
      "340/340 [==============================] - 0s 912us/step - loss: 13461.1934 - root_mean_squared_error: 116.0224\n",
      "Epoch 24/25\n",
      "340/340 [==============================] - 0s 736us/step - loss: 13420.8330 - root_mean_squared_error: 115.8483\n",
      "Epoch 25/25\n",
      "340/340 [==============================] - 0s 681us/step - loss: 13425.1035 - root_mean_squared_error: 115.8668\n"
     ]
    },
    {
     "data": {
      "image/png": "[encoded data removed]",
      "text/plain": [
       "<Figure size 432x288 with 1 Axes>"
      ]
     },
     "metadata": {
      "needs_background": "light"
     },
     "output_type": "display_data"
    },
    {
     "name": "stdout",
     "output_type": "stream",
     "text": [
      "WARNING:tensorflow:11 out of the last 11 calls to <function Model.make_predict_function.<locals>.predict_function at 0x00000150D12A3678> triggered tf.function retracing. Tracing is expensive and the excessive number of tracings could be due to (1) creating @tf.function repeatedly in a loop, (2) passing tensors with different shapes, (3) passing Python objects instead of tensors. For (1), please define your @tf.function outside of the loop. For (2), @tf.function has experimental_relax_shapes=True option that relaxes argument shapes that can avoid unnecessary retracing. For (3), please refer to https://www.tensorflow.org/tutorials/customization/performance#python_or_tensor_args and https://www.tensorflow.org/api_docs/python/tf/function for  more details.\n",
      "feature   label          predicted\n",
      "  value   value          value\n",
      "          in thousand$   in thousand$\n",
      "--------------------------------------\n",
      "    2     53             188\n",
      "    2     92             200\n",
      "    2     69             195\n",
      "    2     62             211\n",
      "    1     80             186\n",
      "    2    295             225\n",
      "    2    500             210\n",
      "    2    342             223\n",
      "    4    118             289\n",
      "    2    128             214\n",
      "    2    187             224\n",
      "    3     80             235\n",
      "    2    112             225\n",
      "    2     95             219\n",
      "    2     69             210\n"
     ]
    }
   ],
   "source": [
    "# Define a synthetic feature named rooms_per_person\n",
    "training_df[\"rooms_per_person\"] = training_df[\"total_rooms\"] / training_df[\"population\"] \n",
    "\n",
    "# Don't change the next line.\n",
    "my_feature = \"rooms_per_person\"\n",
    "\n",
    "# Assign values to these three hyperparameters.\n",
    "learning_rate = 0.05\n",
    "epochs = 25\n",
    "batch_size = 50\n",
    "\n",
    "# Don't change anything below this line.\n",
    "my_model = build_model(learning_rate)\n",
    "weight, bias, epochs, rmse = train_model(my_model, training_df,\n",
    "                                         my_feature, my_label,\n",
    "                                         epochs, batch_size)\n",
    "\n",
    "plot_the_loss_curve(epochs, rmse)\n",
    "predict_house_values(15, my_feature, my_label)"
   ]
  },
  {
   "cell_type": "markdown",
   "metadata": {},
   "source": [
    "### Determine how the model is doing\n",
    "\n",
    "Using rooms_per_person seems to do better than total_rooms and population in terms of RSME but the predictions don't seem much better."
   ]
  },
  {
   "cell_type": "markdown",
   "metadata": {},
   "source": [
    "### Lets find whcih features values correlate with the label\n",
    "\n",
    "So far we have used trial and error to ID possible features for the model. Now lets rely on statistics instead.\n",
    "\n",
    "A correlation matrix indicates how each attribute's raw values relate to the other attributes' raw values. Correlation values have the following meanings:\n",
    "*  1.0 = perfect positive correlation; means they move in the same direction \n",
    "* -1.0 = perfect negative correlation; means they move in opposite directions\n",
    "*  0.0 = no correlation; means the two columns are not linearly related\n",
    "\n",
    "***In general the higher the absolute value of a correlation value, the greater its predictive power.*** For example, a correlation value of -0.8 implies far more predictive power than a correlaton of -0.2"
   ]
  },
  {
   "cell_type": "code",
   "execution_count": 30,
   "metadata": {},
   "outputs": [
    {
     "data": {
      "text/html": [
       "<div>\n",
       "<style scoped>\n",
       "    .dataframe tbody tr th:only-of-type {\n",
       "        vertical-align: middle;\n",
       "    }\n",
       "\n",
       "    .dataframe tbody tr th {\n",
       "        vertical-align: top;\n",
       "    }\n",
       "\n",
       "    .dataframe thead th {\n",
       "        text-align: right;\n",
       "    }\n",
       "</style>\n",
       "<table border=\"1\" class=\"dataframe\">\n",
       "  <thead>\n",
       "    <tr style=\"text-align: right;\">\n",
       "      <th></th>\n",
       "      <th>longitude</th>\n",
       "      <th>latitude</th>\n",
       "      <th>housing_median_age</th>\n",
       "      <th>total_rooms</th>\n",
       "      <th>total_bedrooms</th>\n",
       "      <th>population</th>\n",
       "      <th>households</th>\n",
       "      <th>median_income</th>\n",
       "      <th>median_house_value</th>\n",
       "      <th>rooms_per_person</th>\n",
       "    </tr>\n",
       "  </thead>\n",
       "  <tbody>\n",
       "    <tr>\n",
       "      <th>longitude</th>\n",
       "      <td>1.0</td>\n",
       "      <td>-0.9</td>\n",
       "      <td>-0.1</td>\n",
       "      <td>0.0</td>\n",
       "      <td>0.1</td>\n",
       "      <td>0.1</td>\n",
       "      <td>0.1</td>\n",
       "      <td>-0.0</td>\n",
       "      <td>-0.0</td>\n",
       "      <td>-0.1</td>\n",
       "    </tr>\n",
       "    <tr>\n",
       "      <th>latitude</th>\n",
       "      <td>-0.9</td>\n",
       "      <td>1.0</td>\n",
       "      <td>0.0</td>\n",
       "      <td>-0.0</td>\n",
       "      <td>-0.1</td>\n",
       "      <td>-0.1</td>\n",
       "      <td>-0.1</td>\n",
       "      <td>-0.1</td>\n",
       "      <td>-0.1</td>\n",
       "      <td>0.1</td>\n",
       "    </tr>\n",
       "    <tr>\n",
       "      <th>housing_median_age</th>\n",
       "      <td>-0.1</td>\n",
       "      <td>0.0</td>\n",
       "      <td>1.0</td>\n",
       "      <td>-0.4</td>\n",
       "      <td>-0.3</td>\n",
       "      <td>-0.3</td>\n",
       "      <td>-0.3</td>\n",
       "      <td>-0.1</td>\n",
       "      <td>0.1</td>\n",
       "      <td>-0.1</td>\n",
       "    </tr>\n",
       "    <tr>\n",
       "      <th>total_rooms</th>\n",
       "      <td>0.0</td>\n",
       "      <td>-0.0</td>\n",
       "      <td>-0.4</td>\n",
       "      <td>1.0</td>\n",
       "      <td>0.9</td>\n",
       "      <td>0.9</td>\n",
       "      <td>0.9</td>\n",
       "      <td>0.2</td>\n",
       "      <td>0.1</td>\n",
       "      <td>0.1</td>\n",
       "    </tr>\n",
       "    <tr>\n",
       "      <th>total_bedrooms</th>\n",
       "      <td>0.1</td>\n",
       "      <td>-0.1</td>\n",
       "      <td>-0.3</td>\n",
       "      <td>0.9</td>\n",
       "      <td>1.0</td>\n",
       "      <td>0.9</td>\n",
       "      <td>1.0</td>\n",
       "      <td>-0.0</td>\n",
       "      <td>0.0</td>\n",
       "      <td>0.0</td>\n",
       "    </tr>\n",
       "    <tr>\n",
       "      <th>population</th>\n",
       "      <td>0.1</td>\n",
       "      <td>-0.1</td>\n",
       "      <td>-0.3</td>\n",
       "      <td>0.9</td>\n",
       "      <td>0.9</td>\n",
       "      <td>1.0</td>\n",
       "      <td>0.9</td>\n",
       "      <td>-0.0</td>\n",
       "      <td>-0.0</td>\n",
       "      <td>-0.1</td>\n",
       "    </tr>\n",
       "    <tr>\n",
       "      <th>households</th>\n",
       "      <td>0.1</td>\n",
       "      <td>-0.1</td>\n",
       "      <td>-0.3</td>\n",
       "      <td>0.9</td>\n",
       "      <td>1.0</td>\n",
       "      <td>0.9</td>\n",
       "      <td>1.0</td>\n",
       "      <td>0.0</td>\n",
       "      <td>0.1</td>\n",
       "      <td>-0.0</td>\n",
       "    </tr>\n",
       "    <tr>\n",
       "      <th>median_income</th>\n",
       "      <td>-0.0</td>\n",
       "      <td>-0.1</td>\n",
       "      <td>-0.1</td>\n",
       "      <td>0.2</td>\n",
       "      <td>-0.0</td>\n",
       "      <td>-0.0</td>\n",
       "      <td>0.0</td>\n",
       "      <td>1.0</td>\n",
       "      <td>0.7</td>\n",
       "      <td>0.2</td>\n",
       "    </tr>\n",
       "    <tr>\n",
       "      <th>median_house_value</th>\n",
       "      <td>-0.0</td>\n",
       "      <td>-0.1</td>\n",
       "      <td>0.1</td>\n",
       "      <td>0.1</td>\n",
       "      <td>0.0</td>\n",
       "      <td>-0.0</td>\n",
       "      <td>0.1</td>\n",
       "      <td>0.7</td>\n",
       "      <td>1.0</td>\n",
       "      <td>0.2</td>\n",
       "    </tr>\n",
       "    <tr>\n",
       "      <th>rooms_per_person</th>\n",
       "      <td>-0.1</td>\n",
       "      <td>0.1</td>\n",
       "      <td>-0.1</td>\n",
       "      <td>0.1</td>\n",
       "      <td>0.0</td>\n",
       "      <td>-0.1</td>\n",
       "      <td>-0.0</td>\n",
       "      <td>0.2</td>\n",
       "      <td>0.2</td>\n",
       "      <td>1.0</td>\n",
       "    </tr>\n",
       "  </tbody>\n",
       "</table>\n",
       "</div>"
      ],
      "text/plain": [
       "                    longitude  latitude  housing_median_age  total_rooms  \\\n",
       "longitude                 1.0      -0.9                -0.1          0.0   \n",
       "latitude                 -0.9       1.0                 0.0         -0.0   \n",
       "housing_median_age       -0.1       0.0                 1.0         -0.4   \n",
       "total_rooms               0.0      -0.0                -0.4          1.0   \n",
       "total_bedrooms            0.1      -0.1                -0.3          0.9   \n",
       "population                0.1      -0.1                -0.3          0.9   \n",
       "households                0.1      -0.1                -0.3          0.9   \n",
       "median_income            -0.0      -0.1                -0.1          0.2   \n",
       "median_house_value       -0.0      -0.1                 0.1          0.1   \n",
       "rooms_per_person         -0.1       0.1                -0.1          0.1   \n",
       "\n",
       "                    total_bedrooms  population  households  median_income  \\\n",
       "longitude                      0.1         0.1         0.1           -0.0   \n",
       "latitude                      -0.1        -0.1        -0.1           -0.1   \n",
       "housing_median_age            -0.3        -0.3        -0.3           -0.1   \n",
       "total_rooms                    0.9         0.9         0.9            0.2   \n",
       "total_bedrooms                 1.0         0.9         1.0           -0.0   \n",
       "population                     0.9         1.0         0.9           -0.0   \n",
       "households                     1.0         0.9         1.0            0.0   \n",
       "median_income                 -0.0        -0.0         0.0            1.0   \n",
       "median_house_value             0.0        -0.0         0.1            0.7   \n",
       "rooms_per_person               0.0        -0.1        -0.0            0.2   \n",
       "\n",
       "                    median_house_value  rooms_per_person  \n",
       "longitude                         -0.0              -0.1  \n",
       "latitude                          -0.1               0.1  \n",
       "housing_median_age                 0.1              -0.1  \n",
       "total_rooms                        0.1               0.1  \n",
       "total_bedrooms                     0.0               0.0  \n",
       "population                        -0.0              -0.1  \n",
       "households                         0.1              -0.0  \n",
       "median_income                      0.7               0.2  \n",
       "median_house_value                 1.0               0.2  \n",
       "rooms_per_person                   0.2               1.0  "
      ]
     },
     "execution_count": 30,
     "metadata": {},
     "output_type": "execute_result"
    }
   ],
   "source": [
    "# Generate a correlation matrix\n",
    "training_df.corr()"
   ]
  },
  {
   "cell_type": "markdown",
   "metadata": {},
   "source": [
    "### Which of the nine potential features appears to be the best candidate for predicting median_house_value?\n",
    "\n",
    "It looks like median_income correlates with the label 0.7, it it would be the best feature to use. The others are much closer to 0.0 correlation."
   ]
  },
  {
   "cell_type": "code",
   "execution_count": 32,
   "metadata": {},
   "outputs": [
    {
     "name": "stdout",
     "output_type": "stream",
     "text": [
      "Epoch 1/20\n",
      "567/567 [==============================] - 0s 704us/step - loss: 34817.8555 - root_mean_squared_error: 186.5954\n",
      "Epoch 2/20\n",
      "567/567 [==============================] - 0s 830us/step - loss: 10615.7842 - root_mean_squared_error: 103.0329\n",
      "Epoch 3/20\n",
      "567/567 [==============================] - 0s 700us/step - loss: 7020.0952 - root_mean_squared_error: 83.7860\n",
      "Epoch 4/20\n",
      "567/567 [==============================] - 0s 670us/step - loss: 7015.7734 - root_mean_squared_error: 83.7602\n",
      "Epoch 5/20\n",
      "567/567 [==============================] - 0s 709us/step - loss: 7013.1406 - root_mean_squared_error: 83.7445\n",
      "Epoch 6/20\n",
      "567/567 [==============================] - 0s 690us/step - loss: 7015.1504 - root_mean_squared_error: 83.7565\n",
      "Epoch 7/20\n",
      "567/567 [==============================] - 0s 695us/step - loss: 7014.0493 - root_mean_squared_error: 83.7499\n",
      "Epoch 8/20\n",
      "567/567 [==============================] - 0s 698us/step - loss: 7014.1113 - root_mean_squared_error: 83.7503\n",
      "Epoch 9/20\n",
      "567/567 [==============================] - 0s 674us/step - loss: 7015.0342 - root_mean_squared_error: 83.7558\n",
      "Epoch 10/20\n",
      "567/567 [==============================] - 0s 700us/step - loss: 7015.0967 - root_mean_squared_error: 83.7562\n",
      "Epoch 11/20\n",
      "567/567 [==============================] - 0s 674us/step - loss: 7014.1846 - root_mean_squared_error: 83.7507\n",
      "Epoch 12/20\n",
      "567/567 [==============================] - 0s 725us/step - loss: 7013.4824 - root_mean_squared_error: 83.7465\n",
      "Epoch 13/20\n",
      "567/567 [==============================] - 0s 700us/step - loss: 7014.6045 - root_mean_squared_error: 83.7532\n",
      "Epoch 14/20\n",
      "567/567 [==============================] - 0s 702us/step - loss: 7014.8018 - root_mean_squared_error: 83.7544\n",
      "Epoch 15/20\n",
      "567/567 [==============================] - 0s 783us/step - loss: 7014.4995 - root_mean_squared_error: 83.7526\n",
      "Epoch 16/20\n",
      "567/567 [==============================] - 0s 675us/step - loss: 7015.2563 - root_mean_squared_error: 83.7571\n",
      "Epoch 17/20\n",
      "567/567 [==============================] - 0s 700us/step - loss: 7015.7979 - root_mean_squared_error: 83.7604\n",
      "Epoch 18/20\n",
      "567/567 [==============================] - 0s 682us/step - loss: 7015.1108 - root_mean_squared_error: 83.7563\n",
      "Epoch 19/20\n",
      "567/567 [==============================] - 0s 675us/step - loss: 7014.9961 - root_mean_squared_error: 83.7556\n",
      "Epoch 20/20\n",
      "567/567 [==============================] - 0s 749us/step - loss: 7015.0586 - root_mean_squared_error: 83.7559\n"
     ]
    },
    {
     "data": {
      "image/png": "[encoded data removed]",
      "text/plain": [
       "<Figure size 432x288 with 1 Axes>"
      ]
     },
     "metadata": {
      "needs_background": "light"
     },
     "output_type": "display_data"
    },
    {
     "name": "stdout",
     "output_type": "stream",
     "text": [
      "WARNING:tensorflow:11 out of the last 11 calls to <function Model.make_predict_function.<locals>.predict_function at 0x00000150D0CE9288> triggered tf.function retracing. Tracing is expensive and the excessive number of tracings could be due to (1) creating @tf.function repeatedly in a loop, (2) passing tensors with different shapes, (3) passing Python objects instead of tensors. For (1), please define your @tf.function outside of the loop. For (2), @tf.function has experimental_relax_shapes=True option that relaxes argument shapes that can avoid unnecessary retracing. For (3), please refer to https://www.tensorflow.org/tutorials/customization/performance#python_or_tensor_args and https://www.tensorflow.org/api_docs/python/tf/function for  more details.\n",
      "feature   label          predicted\n",
      "  value   value          value\n",
      "          in thousand$   in thousand$\n",
      "--------------------------------------\n",
      "    2     53             134\n",
      "    4     92             211\n",
      "    3     69             154\n",
      "    2     62             132\n",
      "    3     80             153\n",
      "    2    295             147\n",
      "   10    500             455\n",
      "    5    342             259\n",
      "    2    118             146\n",
      "    4    128             220\n",
      "    8    187             395\n",
      "    3     80             162\n",
      "    3    112             179\n",
      "    4     95             221\n",
      "    2     69             143\n"
     ]
    }
   ],
   "source": [
    "# Set wich column will be the feature.\n",
    "my_feature = \"median_income\"\n",
    "\n",
    "# Assign values to these three hyperparameters.\n",
    "learning_rate = 0.04\n",
    "epochs = 20\n",
    "batch_size = 30\n",
    "\n",
    "# Don't change anything below this line.\n",
    "my_model = build_model(learning_rate)\n",
    "weight, bias, epochs, rmse = train_model(my_model, training_df,\n",
    "                                         my_feature, my_label,\n",
    "                                         epochs, batch_size)\n",
    "\n",
    "plot_the_loss_curve(epochs, rmse)\n",
    "predict_house_values(15, my_feature, my_label)"
   ]
  },
  {
   "cell_type": "markdown",
   "metadata": {},
   "source": [
    "### Determine the models performance\n",
    "\n",
    "Using median_income seems to perform much better, RMSE converges at a significanlty lower level and while the predictions still aren't great they are a bit better."
   ]
  },
  {
   "cell_type": "code",
   "execution_count": null,
   "metadata": {},
   "outputs": [],
   "source": []
  },
  {
   "cell_type": "code",
   "execution_count": null,
   "metadata": {},
   "outputs": [],
   "source": []
  },
  {
   "cell_type": "code",
   "execution_count": null,
   "metadata": {},
   "outputs": [],
   "source": []
  },
  {
   "cell_type": "code",
   "execution_count": null,
   "metadata": {},
   "outputs": [],
   "source": []
  },
  {
   "cell_type": "code",
   "execution_count": null,
   "metadata": {},
   "outputs": [],
   "source": []
  },
  {
   "cell_type": "code",
   "execution_count": null,
   "metadata": {},
   "outputs": [],
   "source": []
  },
  {
   "cell_type": "code",
   "execution_count": null,
   "metadata": {},
   "outputs": [],
   "source": []
  }
 ],
 "metadata": {
  "kernelspec": {
   "display_name": "Python 3",
   "language": "python",
   "name": "python3"
  },
  "language_info": {
   "codemirror_mode": {
    "name": "ipython",
    "version": 3
   },
   "file_extension": ".py",
   "mimetype": "text/x-python",
   "name": "python",
   "nbconvert_exporter": "python",
   "pygments_lexer": "ipython3",
   "version": "3.7.6"
  }
 },
 "nbformat": 4,
 "nbformat_minor": 4
}
